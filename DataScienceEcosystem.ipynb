{
 "cells": [
  {
   "cell_type": "markdown",
   "id": "1c25e63d",
   "metadata": {},
   "source": [
    "# Data Science Tools and Ecosystem"
   ]
  },
  {
   "cell_type": "markdown",
   "id": "24a18a52",
   "metadata": {},
   "source": [
    "In this notebook, Data Science Tools and Ecosystem are summarized."
   ]
  },
  {
   "cell_type": "markdown",
   "id": "ebab885d",
   "metadata": {},
   "source": [
    "#### Objectives:\n",
    "* List popular languages for Data Science.\n",
    "* List the commonly used libraries used by Data Scientists.\n",
    "* Demonstrating basic arithmetic expressions."
   ]
  },
  {
   "cell_type": "markdown",
   "id": "01cdbf06",
   "metadata": {},
   "source": [
    "Some of the popular languages that Data Scientists use are:\n",
    "1. Python.\n",
    "2. R.\n",
    "3. C++\n",
    "4. SQL"
   ]
  },
  {
   "cell_type": "markdown",
   "id": "079734f9",
   "metadata": {},
   "source": [
    "Some of the commonly used libraries used by Data Scientists include:\n",
    "1. Caret.\n",
    "2. Pandas.\n",
    "3. Numpy.\n",
    "4. SciKit-learn.\n",
    "5. ggplot."
   ]
  },
  {
   "cell_type": "markdown",
   "id": "1e456a3b",
   "metadata": {},
   "source": [
    "| Data Science Tools |\n",
    "|--------------------|\n",
    "|RStudio             |\n",
    "|Apache Spark        |\n",
    "|TensorFlow          |"
   ]
  },
  {
   "cell_type": "markdown",
   "id": "b4be9c88",
   "metadata": {},
   "source": [
    "### Below are a few examples of evaluating arithmetic expressions in Python:\n",
    "- Addition - '+'\n",
    "- Subtraction - '-'\n",
    "- Division - '/'\n",
    "- Multiplication - '*'\n"
   ]
  },
  {
   "cell_type": "code",
   "execution_count": 1,
   "id": "07c812ed",
   "metadata": {},
   "outputs": [
    {
     "data": {
      "text/plain": [
       "17"
      ]
     },
     "execution_count": 1,
     "metadata": {},
     "output_type": "execute_result"
    }
   ],
   "source": [
    "# This a simple arithmetic expression to mutiply then add integers\n",
    "(3*4)+5"
   ]
  },
  {
   "cell_type": "code",
   "execution_count": 2,
   "id": "a2093a6e",
   "metadata": {},
   "outputs": [
    {
     "data": {
      "text/plain": [
       "3.3333333333333335"
      ]
     },
     "execution_count": 2,
     "metadata": {},
     "output_type": "execute_result"
    }
   ],
   "source": [
    "# This will convert 200 minutes to hours by diving by 60\n",
    "200/60"
   ]
  },
  {
   "cell_type": "markdown",
   "id": "35186b27",
   "metadata": {},
   "source": [
    "## Author\n",
    "Shay ziv"
   ]
  },
  {
   "cell_type": "code",
   "execution_count": null,
   "id": "f8563932",
   "metadata": {},
   "outputs": [],
   "source": []
  }
 ],
 "metadata": {
  "kernelspec": {
   "display_name": "Python 3 (ipykernel)",
   "language": "python",
   "name": "python3"
  },
  "language_info": {
   "codemirror_mode": {
    "name": "ipython",
    "version": 3
   },
   "file_extension": ".py",
   "mimetype": "text/x-python",
   "name": "python",
   "nbconvert_exporter": "python",
   "pygments_lexer": "ipython3",
   "version": "3.9.13"
  }
 },
 "nbformat": 4,
 "nbformat_minor": 5
}
